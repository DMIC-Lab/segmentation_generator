{
 "cells": [
  {
   "cell_type": "code",
   "execution_count": 1,
   "metadata": {},
   "outputs": [],
   "source": [
    "import os\n",
    "import json\n",
    "# change to results folder\n",
    "os.environ['nnUNet_results'] = f'/home/nathan/Desktop/nnUNet/dataset/nnUNet_results'\n",
    "os.environ['nnUNet_preprocessed'] = 'none'\n",
    "os.environ['nnUNet_raw'] = 'none'\n",
    "\n",
    "from nnunetv2.inference.predict_from_raw_data import predict_entry_point, predict_using_numpy"
   ]
  },
  {
   "cell_type": "code",
   "execution_count": 2,
   "metadata": {},
   "outputs": [],
   "source": [
    "# only necessary for prediction with numpy files\n",
    "with open('properties.json', 'r') as f:\n",
    "    properties = json.load(f)"
   ]
  },
  {
   "cell_type": "code",
   "execution_count": 3,
   "metadata": {},
   "outputs": [
    {
     "name": "stdout",
     "output_type": "stream",
     "text": [
      "\n",
      "#######################################################################\n",
      "Please cite the following paper when using nnU-Net:\n",
      "Isensee, F., Jaeger, P. F., Kohl, S. A., Petersen, J., & Maier-Hein, K. H. (2021). nnU-Net: a self-configuring method for deep learning-based biomedical image segmentation. Nature methods, 18(2), 203-211.\n",
      "#######################################################################\n",
      "\n"
     ]
    }
   ],
   "source": [
    "import SimpleITK as sitk\n",
    "import numpy as np\n",
    "input = sitk.GetArrayFromImage(sitk.ReadImage(\"/home/nathan/Desktop/nnUNet/dataset/nnUNet_results/Dataset014_addedArt2/nnUNetTrainer__nnUNetPlans__2d/fold_0/validation/B_02_postCT_2_1_005.nii.gz\"))\n",
    "input = np.expand_dims(input, axis=0)\n",
    "# input must be a list of numpy arrays with size (1, 256, 256)\n",
    "input = [input for _ in range(50)]\n",
    "\n",
    "predictor = predict_using_numpy(input, '014', properties, c='2d', npp=2, nps=1)"
   ]
  },
  {
   "cell_type": "code",
   "execution_count": 4,
   "metadata": {},
   "outputs": [],
   "source": [
    "# grab masks\n",
    "masks = predictor.grab_masks()"
   ]
  },
  {
   "cell_type": "code",
   "execution_count": 10,
   "metadata": {},
   "outputs": [
    {
     "data": {
      "image/png": "[encoded data removed]",
      "text/plain": [
       "<Figure size 640x480 with 1 Axes>"
      ]
     },
     "metadata": {},
     "output_type": "display_data"
    }
   ],
   "source": [
    "import numpy as np\n",
    "import matplotlib.pyplot as plt\n",
    "%matplotlib inline\n",
    "\n",
    "plt.imshow(input[10][0], cmap='gray')\n",
    "plt.imshow(masks[10][0], cmap='jet', alpha=0.5)\n",
    "plt.show()"
   ]
  }
 ],
 "metadata": {
  "kernelspec": {
   "display_name": "nathan",
   "language": "python",
   "name": "python3"
  },
  "language_info": {
   "codemirror_mode": {
    "name": "ipython",
    "version": 3
   },
   "file_extension": ".py",
   "mimetype": "text/x-python",
   "name": "python",
   "nbconvert_exporter": "python",
   "pygments_lexer": "ipython3",
   "version": "3.9.18"
  }
 },
 "nbformat": 4,
 "nbformat_minor": 2
}
