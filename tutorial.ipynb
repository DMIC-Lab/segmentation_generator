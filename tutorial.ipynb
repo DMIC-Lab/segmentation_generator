{
 "cells": [
  {
   "cell_type": "code",
   "execution_count": 1,
   "metadata": {},
   "outputs": [],
   "source": [
    "import os\n",
    "import json\n",
    "# change to results folder\n",
    "path_to = 'C:/Users/Nathan/Downloads/seg_generator'\n",
    "os.environ['nnUNet_results'] = f'{path_to}/seg_generator/nnUNet_results'\n",
    "os.environ['nnUNet_preprocessed'] = 'none'\n",
    "os.environ['nnUNet_raw'] = 'none'\n",
    "\n",
    "from nnunetv2.inference.predict_from_raw_data import predict_entry_point, predict_using_numpy"
   ]
  },
  {
   "cell_type": "code",
   "execution_count": 2,
   "metadata": {},
   "outputs": [],
   "source": [
    "# only necessary for prediction with numpy files\n",
    "with open('properties.json', 'r') as f:\n",
    "    properties = json.load(f)"
   ]
  },
  {
   "cell_type": "code",
   "execution_count": 3,
   "metadata": {},
   "outputs": [
    {
     "name": "stdout",
     "output_type": "stream",
     "text": [
      "\n",
      "#######################################################################\n",
      "Please cite the following paper when using nnU-Net:\n",
      "Isensee, F., Jaeger, P. F., Kohl, S. A., Petersen, J., & Maier-Hein, K. H. (2021). nnU-Net: a self-configuring method for deep learning-based biomedical image segmentation. Nature methods, 18(2), 203-211.\n",
      "#######################################################################\n",
      "\n"
     ]
    }
   ],
   "source": [
    "import SimpleITK as sitk\n",
    "import numpy as np\n",
    "input = sitk.GetArrayFromImage(sitk.ReadImage(f\"{path_to}/seg_generator/test/B_02_postCT_2_0_000_0000.nii.gz\"))\n",
    "input = np.expand_dims(input, axis=0)\n",
    "# input must be a list of numpy arrays with size (1, 256, 256)\n",
    "input = [input for _ in range(50)]\n",
    "\n",
    "predictor = predict_using_numpy(input, '012', properties, c='2d', f='4', npp=2, nps=1, disable_progress_bar=True)"
   ]
  },
  {
   "cell_type": "code",
   "execution_count": null,
   "metadata": {},
   "outputs": [],
   "source": [
    "# test if second run works\n",
    "\n",
    "predictor = predict_using_numpy(input, '012', properties, c='2d', f='4', npp=2, nps=1)"
   ]
  },
  {
   "cell_type": "code",
   "execution_count": null,
   "metadata": {},
   "outputs": [],
   "source": [
    "input = f'{path_to}/seg_generator/test'\n",
    "\n",
    "# predict from raw data\n",
    "predictor = predict_entry_point(i=input, d='012', c='2d', f='4', device='cuda')"
   ]
  },
  {
   "cell_type": "code",
   "execution_count": null,
   "metadata": {},
   "outputs": [],
   "source": [
    "# grab masks\n",
    "masks = predictor.grab_masks()"
   ]
  },
  {
   "cell_type": "code",
   "execution_count": null,
   "metadata": {},
   "outputs": [],
   "source": [
    "# grab imgs (only when reading from folder)\n",
    "imgs = predictor.grab_raw_images()\n",
    "input = imgs"
   ]
  },
  {
   "cell_type": "code",
   "execution_count": null,
   "metadata": {},
   "outputs": [],
   "source": [
    "import numpy as np\n",
    "import matplotlib.pyplot as plt\n",
    "%matplotlib inline\n",
    "\n",
    "plt.imshow(input[0][0], cmap='gray')\n",
    "plt.imshow(masks[0][0], cmap='jet', alpha=0.5)\n",
    "plt.show()"
   ]
  }
 ],
 "metadata": {
  "kernelspec": {
   "display_name": "nathan",
   "language": "python",
   "name": "python3"
  },
  "language_info": {
   "codemirror_mode": {
    "name": "ipython",
    "version": 3
   },
   "file_extension": ".py",
   "mimetype": "text/x-python",
   "name": "python",
   "nbconvert_exporter": "python",
   "pygments_lexer": "ipython3",
   "version": "3.10.6"
  }
 },
 "nbformat": 4,
 "nbformat_minor": 2
}
